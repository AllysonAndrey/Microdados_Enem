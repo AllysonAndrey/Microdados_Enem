import pandas as pd
import pyodbc as dtbs
  
class DB:

        def coluna_tipos(self, df):

          tipos_sql = {}

          # Validação básica
          if df.empty:
              return tipos_sql

          for coluna in df.columns:
              tipo = df[coluna].dtype

              if pd.api.types.is_integer_dtype(tipo):
                  tipos_sql[coluna] = 'INT'

              elif pd.api.types.is_float_dtype(tipo):
                  tipos_sql[coluna] = 'FLOAT'

              elif pd.api.types.is_object_dtype(tipo):
                  # Calcula tamanho máximo
                      series_str = df[coluna].dropna().astype(str)

                      if len(series_str) == 0:
                          max_len = 0
                      else:
                          max_len = series_str.str.len().max()

                      # Lógica de tamanho melhorada
                      if max_len == 1:
                          tamanho = 1  # Default para colunas vazias
                      elif max_len <= 30:
                          tamanho = 40   # Margem de segurança
                      elif max_len <= 50:
                          tamanho = 60   # Margem de segurança
                      elif max_len <= 100:
                          tamanho = 110  # Margem de segurança
                      elif max_len <= 150:
                          tamanho = 160  # Margem de segurança
                      elif max_len <= 200:
                          tamanho = 220  # Margem de segurança
                      elif max_len <= 500:
                          tamanho = 550  # Margem de segurança
                      else:
                          tamanho = max_len + 100  # Margem flexível

                      tipos_sql[coluna] = f'NVARCHAR({tamanho})'

              # Adiciona tratamento para outros tipos
              elif pd.api.types.is_bool_dtype(tipo):
                  tipos_sql[coluna] = 'BIT'
              elif pd.api.types.is_datetime64_any_dtype(tipo):
                  tipos_sql[coluna] = 'DATETIME2'
              else:
                  tipos_sql[coluna] = 'NVARCHAR(255)'  # Fallback

          return tipos_sql

          #----------------------------------

        def criacao_tabela(self, table_name, df, dicionario=None, coluna_pk=None, auto_detect=False):
        #
        #Cria tabela usando DataFrame com diferentes opções de tipos

        #Parâmetros:
        #- table_name: nome da tabela
        #- df: DataFrame com os dados
        #- dicionario: {nome_coluna: (tipo_python, tipo_sql)} - OPCIONAL
        #- coluna_pk: nome da coluna chave primária - OPCIONAL
        #- auto_detect: se True, usa coluna_tipos() automaticamente

        #Prioridade: dicionario > auto_detect > tipos padrão

            conn = dtbs.connect(self.connection_string)
            cursor = conn.cursor()

            # Construir definição das colunas
            columns_sql = []

            # Se auto_detect=True, usar a função coluna_tipos
            if auto_detect:
                tipos_detectados = self.coluna_tipos(df)
                print(f"🔍 Tipos detectados automaticamente: {tipos_detectados}")

            for col_name in df.columns:
                sql_type = None

                # Prioridade 1: Dicionário fornecido
                if dicionario and col_name in dicionario:
                    python_type, sql_type = dicionario[col_name]

                # Prioridade 2: Auto-detecção
                elif auto_detect:
                    sql_type = tipos_detectados.get(col_name, 'VARCHAR(255)')

                # Prioridade 3: Tipo padrão
                else:
                    sql_type = 'VARCHAR(255)'
                    print(f"⚠️  Coluna '{col_name}' usando tipo padrão: {sql_type}")

                # Adicionar constraint de PK se especificada
                if coluna_pk and col_name.lower() == coluna_pk.lower():
                    sql_type += ' PRIMARY KEY'

                columns_sql.append(f"{col_name} {sql_type}")

            columns_definition = ', '.join(columns_sql)

            # Criar a tabela
            cursor.execute(f"""
                IF NOT EXISTS (SELECT * FROM sysobjects WHERE name='{table_name}' AND xtype='U')
                CREATE TABLE {table_name} ({columns_definition})
            """)
            conn.commit()

            print(f"✅ Tabela '{table_name}' criada com sucesso!")
            print(f"📊 Colunas: {', '.join(df.columns)}")
            if coluna_pk:
                print(f"🔑 Chave primária: {coluna_pk}")



        def create_table_from_dataframe(self, table_name, df, custom_types=None):
          #
          # Cria tabela automaticamente baseada nos tipos do DataFrame
          # custom_types: dicionário para sobrescrever tipos específicos
          # Exemplo: {'id': 'INT IDENTITY(1,1)', 'nome': 'VARCHAR(100)'}

          columns_dict = {}

          for col in df.columns:
              python_type = df[col].dtype.type

              # Usar tipo customizado se fornecido
              if custom_types and col in custom_types:
                  sql_type = custom_types[col]
              else:
                  # Mapear automaticamente
                  if pd.api.types.is_integer_dtype(df[col]):
                      sql_type = 'INT'
                  elif pd.api.types.is_float_dtype(df[col]):
                      sql_type = 'FLOAT'
                  elif pd.api.types.is_datetime64_any_dtype(df[col]):
                      sql_type = 'DATETIME'
                  elif pd.api.types.is_bool_dtype(df[col]):
                      sql_type = 'BIT'
                  else:
                      # Para strings, verificar tamanho máximo
                      max_len = df[col].astype(str).str.len().max()
                      sql_type = f'VARCHAR({min(max_len + 50, 8000)})' if max_len > 0 else 'VARCHAR(255)'

              columns_dict[col] = (python_type, sql_type)

          self.create_table(table_name, columns_dict)
          return columns_dict


          #---------------------------------

        def create_table(self, table_name, columns, types):
            conn = dtbs.connect(self.connection_string)
            cursor = conn.cursor()

            cursor.execute(f"CREATE TABLE IF NOT EXISTS {table_name} ({', '.join([f'{col} {typ}' for col, typ in zip(columns, types)])})")


        def insert_data(self, table_name, df):

            conn = dtbs.connect(self.connection_string)
            cursor = conn.cursor()

            cursor.executemany(f"INSERT INTO {table_name} VALUES ({', '.join(['?'] * len(df.columns))})", df.values.tolist())
            dtbs.commit()
            dtbs.close()


        def read_data(self, table_name):

            conn = dtbs.connect(self.connection_string)
            cursor = conn.cursor()
            df = pd.read_sql_query(f"SELECT * FROM {table_name}", conn)
            dtbs.close()
            return df


        def execute_query(self, query):

            cursor = self.dtbs.cursor()
            cursor.execute(query)
            result = cursor.fetchall()
            cursor.close()
            dtbs.commit()
            dtbs.close()


        def select_all(self, table_name, limit = 10000):

            query = f"SELECT * FROM {table_name} LIMIT {limit})"
            return self.execute_query(query)

        def close(self):

            self.dtbs.close()

        def __init__(self, server, database,trusted_connection=False,username=None, password=None ):
            self.server = server
            self.driver = '{ODBC Driver 17 for SQL Server}'
            self.database = database
            self.username = username
            self.password = password
            self.trusted_connection = trusted_connection
            if self.trusted_connection:
                self.connection_string = (
                f"DRIVER={self.driver};"
                f"SERVER={self.server};"
                f"DATABASE={self.database};"
                "Trusted_Connection=yes;"
                 )
            else:
                self.connection_string = (
                    f"DRIVER={self.driver};"
                    f"SERVER={self.server};"
                    f"DATABASE={self.database};"
                    f"UID={self.username};"
                    f"PWD={self.password};"
                )

                # Validações básicas
            if not server or not database:
                raise ValueError("Server e database são obrigatórios")
            if not trusted_connection and (not username or not password):
                raise ValueError("Username e password são obrigatórios quando trusted_connection=False")

            conn = dtbs.connect(self.connection_string)

