{
  "nbformat": 4,
  "nbformat_minor": 0,
  "metadata": {
    "colab": {
      "provenance": [],
      "authorship_tag": "ABX9TyODI92KJGrF49+m+azI5Evo",
      "include_colab_link": true
    },
    "kernelspec": {
      "name": "python3",
      "display_name": "Python 3"
    },
    "language_info": {
      "name": "python"
    }
  },
  "cells": [
    {
      "cell_type": "markdown",
      "metadata": {
        "id": "view-in-github",
        "colab_type": "text"
      },
      "source": [
        "<a href=\"https://colab.research.google.com/github/AllysonAndrey/Microdados_Enem/blob/main/Data_Normalize.ipynb\" target=\"_parent\"><img src=\"https://colab.research.google.com/assets/colab-badge.svg\" alt=\"Open In Colab\"/></a>"
      ]
    },
    {
      "cell_type": "code",
      "execution_count": 2,
      "metadata": {
        "id": "92RukayIXhGa"
      },
      "outputs": [],
      "source": [
        "import numpy as np\n",
        "import pandas as pd\n",
        "import os\n",
        "import statsmodels.api as sn\n",
        "import matplotlib.pyplot as mpl\n",
        "import seaborn as sb\n",
        "#import pyodbc as bd"
      ]
    },
    {
      "cell_type": "markdown",
      "source": [
        "# Nova seção"
      ],
      "metadata": {
        "id": "SQbW7eryXmh6"
      }
    },
    {
      "cell_type": "code",
      "source": [],
      "metadata": {
        "id": "tirF6-NlX44I"
      },
      "execution_count": null,
      "outputs": []
    }
  ]
}